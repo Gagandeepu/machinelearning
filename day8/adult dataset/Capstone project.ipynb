{
 "cells": [
  {
   "cell_type": "markdown",
   "metadata": {},
   "source": [
    "# PREDICTING EARNING POTENTIAL USING ADULT DATASET\n"
   ]
  },
  {
   "cell_type": "markdown",
   "metadata": {},
   "source": [
    "#### The dataset used in this project has 48,842 records and a binomial label indicating a salary of <50K or >50K USD. \n",
    "Applying classification models to the problem of identifying individuals whose salary exceeds a specified value based on demographic information such as age, level of education and current employment type. The problem which I'm trying to solve using this data set is to be able to predict if a person falls in the income category below 50 thousand dollars or above 50 thousand dollars. The advantage of the trained model is it will support a business objective which will use the predictive capabilities of the proposed models to target customers to indicate the likely level of return on investment and overall profitability.\n",
    "In this dataset 76% of the records have a class label of <50K. The data has been divided into a training set containing 32,561 records and a test dataset containing 16,281 records.\n",
    "There are 14 attributes consisting of eight categorical and six continuous attributes. \n",
    "##### 1. Categorical Attributes \n",
    "- workclass: Private, Self-emp-not-inc, Self-emp-inc, Federal-gov, Local-gov, State-gov, Without-pay, Never-worked.\n",
    "- education:  Bachelors, Some-college, 11th, HS-grad, Prof-school, Assoc-acdm, Assoc-voc, 9th, 7th-8th, 12th, Masters, 1st-4th, 10th, Doctorate, 5th-6th, Preschool.\n",
    "- marital-status: Married-civ-spouse, Divorced, Never-married, Separated, Widowed, Married-spouse-absent, Married-AF-spouse.\n",
    "- occupation: Tech-support, Craft-repair, Other-service, Sales, Exec-managerial, Prof-specialty, Handlers-cleaners, Machine-op-inspct, Adm-clerical, Farming-fishing, Transport-moving, Priv-house-serv, Protective-serv, Armed-Forces.\n",
    "- relationship:  Wife, Own-child, Husband, Not-in-family, Other-relative, Unmarried.\n",
    "- race:  White, Asian-Pac-Islander, Amer-Indian-Eskimo, Other, Black.\n",
    "- sex: Female, Male.\n",
    "- native-country: United-States, Cambodia, England, Puerto-Rico, Canada, Germany, Outlying-US(Guam-USVI-etc), India, Japan, Greece, South, China, Cuba, Iran, Honduras, Philippines, Italy, Poland, Jamaica, Vietnam, Mexico, Portugal, Ireland, France, Dominican-Republic, Laos, Ecuador, Taiwan, Haiti, Columbia, Hungary, Guatemala, Nicaragua, Scotland, Thailand, Yugoslavia, El-Salvador, Trinadad&Tobago, Peru, Hong, Holand-Netherlands.\n",
    "\n",
    "##### 2. Continuous Attributes\n",
    "- Age: age of an individual\n",
    "- education-num: number of education year.\n",
    "- fnlwgt: final weight, The weights on the CPS files are controlled to independent estimates of the civilian noninstitutional population of the US.  These are prepared monthly for us by Population Division here at the Census Bureau.  \n",
    "- capital-gain: continuous.\n",
    "- captial-loss: continuous.\n",
    "- hours-per-week: Individual's working hour per week.\n",
    "\n",
    "\n",
    "Here's the reference for the dataset: [adult dataset](https://archive.ics.uci.edu/ml/datasets/Adult)\n",
    "\n",
    "Alright let's get to building!!!"
   ]
  },
  {
   "cell_type": "markdown",
   "metadata": {},
   "source": [
    "### SETUP AND LOAD DATA"
   ]
  },
  {
   "cell_type": "code",
   "execution_count": 2,
   "metadata": {},
   "outputs": [],
   "source": [
    "import numpy as np\n",
    "import pandas as pd\n",
    "import tensorflow as tf\n",
    "from tensorflow.python import keras\n",
    "from sklearn.model_selection import train_test_split\n",
    "from tqdm import tqdm_notebook\n",
    "import matplotlib.pyplot as plt\n",
    "import seaborn as sns\n",
    "from sklearn.linear_model import LinearRegression\n",
    "from sklearn.feature_selection import RFE \n",
    "from sklearn.preprocessing import LabelEncoder, OneHotEncoder, StandardScaler\n",
    "from sklearn import model_selection, preprocessing, metrics\n",
    "from sklearn.decomposition import PCA\n"
   ]
  },
  {
   "cell_type": "code",
   "execution_count": 3,
   "metadata": {},
   "outputs": [
    {
     "data": {
      "text/html": [
       "<div>\n",
       "<style scoped>\n",
       "    .dataframe tbody tr th:only-of-type {\n",
       "        vertical-align: middle;\n",
       "    }\n",
       "\n",
       "    .dataframe tbody tr th {\n",
       "        vertical-align: top;\n",
       "    }\n",
       "\n",
       "    .dataframe thead th {\n",
       "        text-align: right;\n",
       "    }\n",
       "</style>\n",
       "<table border=\"1\" class=\"dataframe\">\n",
       "  <thead>\n",
       "    <tr style=\"text-align: right;\">\n",
       "      <th></th>\n",
       "      <th>age</th>\n",
       "      <th>workclass</th>\n",
       "      <th>fnlwgt</th>\n",
       "      <th>education</th>\n",
       "      <th>education-num</th>\n",
       "      <th>marital-status</th>\n",
       "      <th>occupation</th>\n",
       "      <th>relationship</th>\n",
       "      <th>race</th>\n",
       "      <th>sex</th>\n",
       "      <th>capital-gain</th>\n",
       "      <th>capital-loss</th>\n",
       "      <th>hours-per-week</th>\n",
       "      <th>native-country</th>\n",
       "      <th>target</th>\n",
       "    </tr>\n",
       "  </thead>\n",
       "  <tbody>\n",
       "    <tr>\n",
       "      <th>0</th>\n",
       "      <td>39</td>\n",
       "      <td>State-gov</td>\n",
       "      <td>77516</td>\n",
       "      <td>Bachelors</td>\n",
       "      <td>13</td>\n",
       "      <td>Never-married</td>\n",
       "      <td>Adm-clerical</td>\n",
       "      <td>Not-in-family</td>\n",
       "      <td>White</td>\n",
       "      <td>Male</td>\n",
       "      <td>2174</td>\n",
       "      <td>0</td>\n",
       "      <td>40</td>\n",
       "      <td>United-States</td>\n",
       "      <td>&lt;=50K</td>\n",
       "    </tr>\n",
       "    <tr>\n",
       "      <th>1</th>\n",
       "      <td>50</td>\n",
       "      <td>Self-emp-not-inc</td>\n",
       "      <td>83311</td>\n",
       "      <td>Bachelors</td>\n",
       "      <td>13</td>\n",
       "      <td>Married-civ-spouse</td>\n",
       "      <td>Exec-managerial</td>\n",
       "      <td>Husband</td>\n",
       "      <td>White</td>\n",
       "      <td>Male</td>\n",
       "      <td>0</td>\n",
       "      <td>0</td>\n",
       "      <td>13</td>\n",
       "      <td>United-States</td>\n",
       "      <td>&lt;=50K</td>\n",
       "    </tr>\n",
       "    <tr>\n",
       "      <th>2</th>\n",
       "      <td>38</td>\n",
       "      <td>Private</td>\n",
       "      <td>215646</td>\n",
       "      <td>HS-grad</td>\n",
       "      <td>9</td>\n",
       "      <td>Divorced</td>\n",
       "      <td>Handlers-cleaners</td>\n",
       "      <td>Not-in-family</td>\n",
       "      <td>White</td>\n",
       "      <td>Male</td>\n",
       "      <td>0</td>\n",
       "      <td>0</td>\n",
       "      <td>40</td>\n",
       "      <td>United-States</td>\n",
       "      <td>&lt;=50K</td>\n",
       "    </tr>\n",
       "    <tr>\n",
       "      <th>3</th>\n",
       "      <td>53</td>\n",
       "      <td>Private</td>\n",
       "      <td>234721</td>\n",
       "      <td>11th</td>\n",
       "      <td>7</td>\n",
       "      <td>Married-civ-spouse</td>\n",
       "      <td>Handlers-cleaners</td>\n",
       "      <td>Husband</td>\n",
       "      <td>Black</td>\n",
       "      <td>Male</td>\n",
       "      <td>0</td>\n",
       "      <td>0</td>\n",
       "      <td>40</td>\n",
       "      <td>United-States</td>\n",
       "      <td>&lt;=50K</td>\n",
       "    </tr>\n",
       "    <tr>\n",
       "      <th>4</th>\n",
       "      <td>28</td>\n",
       "      <td>Private</td>\n",
       "      <td>338409</td>\n",
       "      <td>Bachelors</td>\n",
       "      <td>13</td>\n",
       "      <td>Married-civ-spouse</td>\n",
       "      <td>Prof-specialty</td>\n",
       "      <td>Wife</td>\n",
       "      <td>Black</td>\n",
       "      <td>Female</td>\n",
       "      <td>0</td>\n",
       "      <td>0</td>\n",
       "      <td>40</td>\n",
       "      <td>Cuba</td>\n",
       "      <td>&lt;=50K</td>\n",
       "    </tr>\n",
       "  </tbody>\n",
       "</table>\n",
       "</div>"
      ],
      "text/plain": [
       "   age          workclass  fnlwgt   education  education-num  \\\n",
       "0   39          State-gov   77516   Bachelors             13   \n",
       "1   50   Self-emp-not-inc   83311   Bachelors             13   \n",
       "2   38            Private  215646     HS-grad              9   \n",
       "3   53            Private  234721        11th              7   \n",
       "4   28            Private  338409   Bachelors             13   \n",
       "\n",
       "        marital-status          occupation    relationship    race      sex  \\\n",
       "0        Never-married        Adm-clerical   Not-in-family   White     Male   \n",
       "1   Married-civ-spouse     Exec-managerial         Husband   White     Male   \n",
       "2             Divorced   Handlers-cleaners   Not-in-family   White     Male   \n",
       "3   Married-civ-spouse   Handlers-cleaners         Husband   Black     Male   \n",
       "4   Married-civ-spouse      Prof-specialty            Wife   Black   Female   \n",
       "\n",
       "   capital-gain  capital-loss  hours-per-week  native-country  target  \n",
       "0          2174             0              40   United-States   <=50K  \n",
       "1             0             0              13   United-States   <=50K  \n",
       "2             0             0              40   United-States   <=50K  \n",
       "3             0             0              40   United-States   <=50K  \n",
       "4             0             0              40            Cuba   <=50K  "
      ]
     },
     "execution_count": 3,
     "metadata": {},
     "output_type": "execute_result"
    }
   ],
   "source": [
    "data2=pd.read_csv(\"adult.csv\",names=['age','workclass','fnlwgt','education','education-num','marital-status','occupation','relationship','race','sex','capital-gain','capital-loss','hours-per-week','native-country','target'])\n",
    "data2.head(5) # returns five columns from dataset as shown below"
   ]
  },
  {
   "attachments": {},
   "cell_type": "markdown",
   "metadata": {},
   "source": [
    "#### The below table contains the descriptive statistics that summarize the central tendency, dispersion and shape of a dataset’s distribution, excluding NaN values.\n",
    "\n",
    "![alt text](Screenshot1.png)\n",
    "\n"
   ]
  },
  {
   "cell_type": "markdown",
   "metadata": {},
   "source": [
    "## Preprocessing of the dataset\n",
    "\n",
    "1) Here looking at the dataset we can see that '?' exists denoting the missing values. We need to replace them with *NaN *using numpy's simple approach and replace them with the most occuring values or even the median of that column.We do not delete such row entries because it will reduce our dataset by a factor of 0.2"
   ]
  },
  {
   "cell_type": "code",
   "execution_count": 4,
   "metadata": {},
   "outputs": [],
   "source": [
    "col_names = data2.columns\n",
    "for c in col_names:\n",
    "\tdata2[c] = data2[c].replace(\"?\", np.NaN)\n",
    "\n",
    "data2 = data2.apply(lambda x:x.fillna(x.value_counts().index[0]))"
   ]
  },
  {
   "cell_type": "markdown",
   "metadata": {},
   "source": [
    "2)Now, we need to convert the categorical values to numeric for our Neural Network to train. Looking at the Marital-status col, there are nearly 6 different values which would mean the same as two values of being married ot no married, therefore we convert them into only two values."
   ]
  },
  {
   "cell_type": "code",
   "execution_count": 5,
   "metadata": {},
   "outputs": [],
   "source": [
    "data2.replace(['Divorced', 'Married-AF-spouse', 'Married-civ-spouse', 'Married-spouse-absent','Never-married','Separated','Widowed'],\n",
    "             ['divorced','married','married','married','not married','not married','not married'], inplace = True)\n"
   ]
  },
  {
   "cell_type": "markdown",
   "metadata": {},
   "source": [
    "\n",
    "3) Now we use labelEncoder to convert the categorical data into index values of an array of its inputs i.e. converting each value into a number. This is only done on attributes: ['race','marital-status', 'gender', 'income'] which do not contain more than 2 values.\n",
    "\n",
    "#### NOTE : we do not want to fit our neural network into a model which contains a biased values for equivalent attribute values. To avoid this, we use Dummy variables method.\n",
    "\n",
    "4) Here we implement get_dummies method of pandas lib to create new colums for our data where each attribute value's occurance in any input instance is denoted by either 0 or 1.\n"
   ]
  },
  {
   "cell_type": "code",
   "execution_count": 6,
   "metadata": {},
   "outputs": [],
   "source": [
    "labelEncoder = preprocessing.LabelEncoder()\n",
    "category_col =['race','marital-status', 'sex', 'target'] \n",
    "\n",
    "for col in category_col:\n",
    "    data2[col] = labelEncoder.fit_transform(data2[col])\n",
    "\n",
    "category_col_1 =['workclass', 'education', 'occupation',\n",
    "               'relationship','native-country'] \n",
    "data = pd.get_dummies(data2, columns=category_col_1, drop_first=True)\n",
    "\n",
    "##unknown Attribute is removed and income class label is appended in the end\n",
    "dataframe=data.drop('fnlwgt',1)\n",
    "final_data =dataframe[[c for c in dataframe if c not in ['target']] + ['target']]\n"
   ]
  },
  {
   "cell_type": "code",
   "execution_count": 7,
   "metadata": {},
   "outputs": [],
   "source": [
    "X = final_data.iloc[:, 0:91].values\n",
    "Y = final_data.iloc[:, 91].values\n"
   ]
  },
  {
   "cell_type": "markdown",
   "metadata": {},
   "source": [
    "##### Principal Component Analysis (PCA)\n",
    "is a dimension-reduction tool that can be used to reduce a large set of variables to a small set that still contains most of the information in the large set."
   ]
  },
  {
   "cell_type": "code",
   "execution_count": 14,
   "metadata": {},
   "outputs": [
    {
     "data": {
      "text/plain": [
       "(32561, 11)"
      ]
     },
     "execution_count": 14,
     "metadata": {},
     "output_type": "execute_result"
    }
   ],
   "source": [
    "pca = PCA(n_components=11)\n",
    "x = pca.fit_transform(X)\n",
    "x.shape"
   ]
  },
  {
   "cell_type": "markdown",
   "metadata": {},
   "source": [
    "\n",
    "##### Training the Neural Network\n",
    "\n",
    "1) Now we train and test the data on the model using cross validation method.\n",
    "\n",
    "2) I have used a simple model of a neural network where there is one input layer, one output layer and one hidden layer. The first two use tanh activation function but the Output layer uses softmax activation function to ensure our network output is between 0 and 1. We run the training model for 20 epochs.\n",
    "\n"
   ]
  },
  {
   "cell_type": "code",
   "execution_count": 15,
   "metadata": {},
   "outputs": [],
   "source": [
    "model = tf.keras.Sequential([\n",
    "    keras.layers.Dense(25, input_shape=(X[0].shape), activation=tf.nn.tanh),\n",
    "    keras.layers.Dense(13, activation=tf.nn.tanh),\n",
    "    keras.layers.Dense(2, activation=tf.nn.softmax)\n",
    "])"
   ]
  },
  {
   "cell_type": "code",
   "execution_count": 16,
   "metadata": {},
   "outputs": [],
   "source": [
    "xtrain, xtest, ytrain, ytest = train_test_split(X,Y,test_size=0.3)\n"
   ]
  },
  {
   "cell_type": "code",
   "execution_count": 17,
   "metadata": {},
   "outputs": [],
   "source": [
    "model.compile(loss='sparse_categorical_crossentropy',\n",
    "            optimizer=keras.optimizers.Adam(0.001),\n",
    "             metrics=['accuracy'])"
   ]
  },
  {
   "cell_type": "code",
   "execution_count": 18,
   "metadata": {},
   "outputs": [
    {
     "name": "stdout",
     "output_type": "stream",
     "text": [
      "Train on 18233 samples, validate on 4559 samples\n",
      "Epoch 1/20\n",
      " - 2s - loss: 0.4553 - acc: 0.7726 - val_loss: 0.3849 - val_acc: 0.8149\n",
      "Epoch 2/20\n",
      " - 1s - loss: 0.3781 - acc: 0.8073 - val_loss: 0.3554 - val_acc: 0.8265\n",
      "Epoch 3/20\n",
      " - 1s - loss: 0.3673 - acc: 0.8168 - val_loss: 0.3568 - val_acc: 0.8293\n",
      "Epoch 4/20\n",
      " - 1s - loss: 0.3638 - acc: 0.8152 - val_loss: 0.3506 - val_acc: 0.8285\n",
      "Epoch 5/20\n",
      " - 1s - loss: 0.3628 - acc: 0.8168 - val_loss: 0.3849 - val_acc: 0.8151\n",
      "Epoch 6/20\n",
      " - 1s - loss: 0.3608 - acc: 0.8185 - val_loss: 0.3487 - val_acc: 0.8285\n",
      "Epoch 7/20\n",
      " - 1s - loss: 0.3596 - acc: 0.8182 - val_loss: 0.3515 - val_acc: 0.8258\n",
      "Epoch 8/20\n",
      " - 1s - loss: 0.3609 - acc: 0.8169 - val_loss: 0.3488 - val_acc: 0.8318\n",
      "Epoch 9/20\n",
      " - 1s - loss: 0.3574 - acc: 0.8198 - val_loss: 0.3523 - val_acc: 0.8318\n",
      "Epoch 10/20\n",
      " - 1s - loss: 0.3587 - acc: 0.8174 - val_loss: 0.3631 - val_acc: 0.8201\n",
      "Epoch 11/20\n",
      " - 1s - loss: 0.3571 - acc: 0.8175 - val_loss: 0.3470 - val_acc: 0.8320\n",
      "Epoch 12/20\n",
      " - 1s - loss: 0.3566 - acc: 0.8182 - val_loss: 0.3509 - val_acc: 0.8263\n",
      "Epoch 13/20\n",
      " - 1s - loss: 0.3554 - acc: 0.8197 - val_loss: 0.3494 - val_acc: 0.8241\n",
      "Epoch 14/20\n",
      " - 1s - loss: 0.3563 - acc: 0.8215 - val_loss: 0.3604 - val_acc: 0.8177\n",
      "Epoch 15/20\n",
      " - 1s - loss: 0.3555 - acc: 0.8218 - val_loss: 0.3529 - val_acc: 0.8304\n",
      "Epoch 16/20\n",
      " - 1s - loss: 0.3547 - acc: 0.8240 - val_loss: 0.3501 - val_acc: 0.8289\n",
      "Epoch 17/20\n",
      " - 1s - loss: 0.3535 - acc: 0.8192 - val_loss: 0.3479 - val_acc: 0.8309\n",
      "Epoch 18/20\n",
      " - 1s - loss: 0.3552 - acc: 0.8196 - val_loss: 0.3474 - val_acc: 0.8283\n",
      "Epoch 19/20\n",
      " - 1s - loss: 0.3539 - acc: 0.8226 - val_loss: 0.3480 - val_acc: 0.8263\n",
      "Epoch 20/20\n",
      " - 1s - loss: 0.3545 - acc: 0.8211 - val_loss: 0.3500 - val_acc: 0.8283\n"
     ]
    }
   ],
   "source": [
    "history = model.fit(xtrain, ytrain, epochs=20, validation_split=0.2, verbose=2)"
   ]
  },
  {
   "cell_type": "code",
   "execution_count": 19,
   "metadata": {},
   "outputs": [
    {
     "data": {
      "text/plain": [
       "[<matplotlib.lines.Line2D at 0x1a475a14a8>]"
      ]
     },
     "execution_count": 19,
     "metadata": {},
     "output_type": "execute_result"
    },
    {
     "data": {
      "image/png": "[encoded data removed]",
      "text/plain": [
       "<Figure size 432x288 with 1 Axes>"
      ]
     },
     "metadata": {},
     "output_type": "display_data"
    }
   ],
   "source": [
    "plt.plot(history.epoch, history.history['loss'], 'g')\n",
    "plt.plot(history.epoch, history.history['val_loss'],'r')"
   ]
  },
  {
   "cell_type": "code",
   "execution_count": null,
   "metadata": {},
   "outputs": [],
   "source": []
  },
  {
   "cell_type": "code",
   "execution_count": null,
   "metadata": {},
   "outputs": [],
   "source": []
  }
 ],
 "metadata": {
  "kernelspec": {
   "display_name": "Python 3",
   "language": "python",
   "name": "python3"
  },
  "language_info": {
   "codemirror_mode": {
    "name": "ipython",
    "version": 3
   },
   "file_extension": ".py",
   "mimetype": "text/x-python",
   "name": "python",
   "nbconvert_exporter": "python",
   "pygments_lexer": "ipython3",
   "version": "3.6.5"
  }
 },
 "nbformat": 4,
 "nbformat_minor": 2
}
